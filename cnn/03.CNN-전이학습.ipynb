{
 "cells": [
  {
   "cell_type": "code",
   "execution_count": 8,
   "id": "71314b75",
   "metadata": {},
   "outputs": [
    {
     "data": {
      "text/html": [
       "<style>div.container { width:100% !important; }</style>"
      ],
      "text/plain": [
       "<IPython.core.display.HTML object>"
      ]
     },
     "metadata": {},
     "output_type": "display_data"
    }
   ],
   "source": [
    "from IPython.display import display, HTML\n",
    "display(HTML(\"<style>div.container { width:100% !important; }</style>\"))"
   ]
  },
  {
   "cell_type": "code",
   "execution_count": 1,
   "id": "10b86ffc",
   "metadata": {},
   "outputs": [],
   "source": [
    "import numpy as np\n",
    "import tensorflow as tf                                             #tensorflow 기본 import\n",
    "from tensorflow.keras.models import Sequential                     # model box 구성\n",
    "from tensorflow.keras.layers import Flatten, Dense   # model 안의 input layer와\n",
    "                                                                    # output layer를 구성\n",
    "from tensorflow.keras.optimizers import Adam,SGD ,RMSprop                        #알고리즘 담당\n",
    "from sklearn.model_selection import train_test_split              # train Data, Test Data 분리\n",
    "from sklearn.preprocessing import MinMaxScaler                    # 데이터 정규화 -> 컴퓨터가 큰숫자를 작은 숫자로 변경( 0~1사이 실수 값으로\n",
    "from tensorflow.keras.preprocessing.image import ImageDataGenerator\n"
   ]
  },
  {
   "cell_type": "code",
   "execution_count": 3,
   "id": "5f75f8ce",
   "metadata": {},
   "outputs": [
    {
     "ename": "NameError",
     "evalue": "name 'tf' is not defined",
     "output_type": "error",
     "traceback": [
      "\u001b[1;31m---------------------------------------------------------------------------\u001b[0m",
      "\u001b[1;31mNameError\u001b[0m                                 Traceback (most recent call last)",
      "\u001b[1;32m<ipython-input-3-08623338f3d5>\u001b[0m in \u001b[0;36m<module>\u001b[1;34m\u001b[0m\n\u001b[1;32m----> 1\u001b[1;33m tf.keras.applications.InceptionV3(\n\u001b[0m\u001b[0;32m      2\u001b[0m     \u001b[0minclude_top\u001b[0m\u001b[1;33m=\u001b[0m\u001b[1;32mTrue\u001b[0m\u001b[1;33m,\u001b[0m \u001b[1;31m# classification (softmax) 부분을 포함할 것인지 선택하는 것입니다.\u001b[0m\u001b[1;33m\u001b[0m\u001b[1;33m\u001b[0m\u001b[0m\n\u001b[0;32m      3\u001b[0m     \u001b[0mweights\u001b[0m\u001b[1;33m=\u001b[0m\u001b[1;34m\"imagenet\"\u001b[0m\u001b[1;33m,\u001b[0m \u001b[1;31m# imageNet으로 pre-trained 된 모델을 받을 것인지를 선택하는 것입니다. 만약 pre-trained 된 모델을 받길 원하지 않는다면 None으로 넣으면 됩니다.\u001b[0m\u001b[1;33m\u001b[0m\u001b[1;33m\u001b[0m\u001b[0m\n\u001b[0;32m      4\u001b[0m     \u001b[0minput_tensor\u001b[0m\u001b[1;33m=\u001b[0m\u001b[1;32mNone\u001b[0m\u001b[1;33m,\u001b[0m\u001b[1;33m\u001b[0m\u001b[1;33m\u001b[0m\u001b[0m\n\u001b[0;32m      5\u001b[0m     \u001b[0minput_shape\u001b[0m\u001b[1;33m=\u001b[0m\u001b[1;32mNone\u001b[0m\u001b[1;33m,\u001b[0m\u001b[1;33m\u001b[0m\u001b[1;33m\u001b[0m\u001b[0m\n",
      "\u001b[1;31mNameError\u001b[0m: name 'tf' is not defined"
     ]
    }
   ],
   "source": [
    "tf.keras.applications.InceptionV3(\n",
    "    include_top=True, # classification (softmax) 부분을 포함할 것인지 선택하는 것입니다.\n",
    "    weights=\"imagenet\", # imageNet으로 pre-trained 된 모델을 받을 것인지를 선택하는 것입니다. 만약 pre-trained 된 모델을 받길 원하지 않는다면 None으로 넣으면 됩니다.\n",
    "    input_tensor=None, \n",
    "    input_shape=None,\n",
    "    pooling=None,\n",
    "    classes=1000,\n",
    "    classifier_activation=\"softmax\",\n",
    ")"
   ]
  },
  {
   "cell_type": "code",
   "execution_count": null,
   "id": "3a66c4be",
   "metadata": {},
   "outputs": [],
   "source": []
  },
  {
   "cell_type": "code",
   "execution_count": 10,
   "id": "de7de50c",
   "metadata": {},
   "outputs": [],
   "source": [
    "train_dir=\"./SUV/train\"\n",
    "test_dir=\"./SUV/test\""
   ]
  },
  {
   "cell_type": "code",
   "execution_count": 11,
   "id": "d506e4f0",
   "metadata": {},
   "outputs": [],
   "source": [
    "train_datagen=ImageDataGenerator(rescale=1/255)\n",
    "test_datageb=ImageDataGenerator(rescale=1/255)"
   ]
  },
  {
   "cell_type": "code",
   "execution_count": 12,
   "id": "63a0c706",
   "metadata": {},
   "outputs": [
    {
     "name": "stdout",
     "output_type": "stream",
     "text": [
      "Found 0 images belonging to 3 classes.\n",
      "Found 0 images belonging to 3 classes.\n"
     ]
    }
   ],
   "source": [
    "\n",
    "train_genrator=train_datagen.flow_from_directory(\n",
    "train_dir,\n",
    "classes=[\"rook\",\"paper\",\"scissors\"],\n",
    "                            \n",
    "target_size=(150,150), \n",
    "batch_size=20, \n",
    "class_mode=\"categorical\",subset=\"training\"  \n",
    ")\n",
    "test_genrator=train_datagen.flow_from_directory(\n",
    "test_dir, \n",
    "classes=[\"rook\",\"paper\",\"scissors\"],\n",
    "                        \n",
    "batch_size=20, \n",
    "class_mode=\"categorical\"  \n",
    ")\n",
    "  "
   ]
  },
  {
   "cell_type": "code",
   "execution_count": 7,
   "id": "480ce081",
   "metadata": {},
   "outputs": [],
   "source": [
    "model=Sequential()"
   ]
  },
  {
   "cell_type": "code",
   "execution_count": 8,
   "id": "6e412fbd",
   "metadata": {},
   "outputs": [],
   "source": [
    "from tensorflow.keras.applications import VGG16\n",
    "model_base=VGG16(weights=\"imagenet\",\n",
    "                 include_top=False,#cassifaction 제외\n",
    "                  input_shape=(150,150,3))\n",
    "model_base.trainable=False #parmter(filter)동결\n",
    "model.add(model_base)\n",
    "#Fully Conection Layer(DNN)의 inpit layer\n",
    "model.add(Flatten())#전체 데이터를 4차원에서 2차원으로 변경\n",
    "# Hidden Layer\n",
    "model.add(Dense(units=256,activation=\"relu\"))\n",
    "\n",
    "#ourput Layer\n",
    "model.add(Dense(units=1,activation=\"sigmoid\"))"
   ]
  },
  {
   "cell_type": "code",
   "execution_count": 12,
   "id": "9ad41b2e",
   "metadata": {},
   "outputs": [
    {
     "name": "stdout",
     "output_type": "stream",
     "text": [
      "Model: \"sequential\"\n",
      "_________________________________________________________________\n",
      "Layer (type)                 Output Shape              Param #   \n",
      "=================================================================\n",
      "vgg16 (Functional)           (None, 4, 4, 512)         14714688  \n",
      "_________________________________________________________________\n",
      "flatten (Flatten)            (None, 8192)              0         \n",
      "_________________________________________________________________\n",
      "dense (Dense)                (None, 256)               2097408   \n",
      "_________________________________________________________________\n",
      "dense_1 (Dense)              (None, 1)                 257       \n",
      "=================================================================\n",
      "Total params: 16,812,353\n",
      "Trainable params: 2,097,665\n",
      "Non-trainable params: 14,714,688\n",
      "_________________________________________________________________\n"
     ]
    }
   ],
   "source": [
    "model.summary()"
   ]
  },
  {
   "cell_type": "code",
   "execution_count": 13,
   "id": "2c2847b2",
   "metadata": {},
   "outputs": [
    {
     "name": "stdout",
     "output_type": "stream",
     "text": [
      "Model: \"vgg16\"\n",
      "_________________________________________________________________\n",
      "Layer (type)                 Output Shape              Param #   \n",
      "=================================================================\n",
      "input_1 (InputLayer)         [(None, 150, 150, 3)]     0         \n",
      "_________________________________________________________________\n",
      "block1_conv1 (Conv2D)        (None, 150, 150, 64)      1792      \n",
      "_________________________________________________________________\n",
      "block1_conv2 (Conv2D)        (None, 150, 150, 64)      36928     \n",
      "_________________________________________________________________\n",
      "block1_pool (MaxPooling2D)   (None, 75, 75, 64)        0         \n",
      "_________________________________________________________________\n",
      "block2_conv1 (Conv2D)        (None, 75, 75, 128)       73856     \n",
      "_________________________________________________________________\n",
      "block2_conv2 (Conv2D)        (None, 75, 75, 128)       147584    \n",
      "_________________________________________________________________\n",
      "block2_pool (MaxPooling2D)   (None, 37, 37, 128)       0         \n",
      "_________________________________________________________________\n",
      "block3_conv1 (Conv2D)        (None, 37, 37, 256)       295168    \n",
      "_________________________________________________________________\n",
      "block3_conv2 (Conv2D)        (None, 37, 37, 256)       590080    \n",
      "_________________________________________________________________\n",
      "block3_conv3 (Conv2D)        (None, 37, 37, 256)       590080    \n",
      "_________________________________________________________________\n",
      "block3_pool (MaxPooling2D)   (None, 18, 18, 256)       0         \n",
      "_________________________________________________________________\n",
      "block4_conv1 (Conv2D)        (None, 18, 18, 512)       1180160   \n",
      "_________________________________________________________________\n",
      "block4_conv2 (Conv2D)        (None, 18, 18, 512)       2359808   \n",
      "_________________________________________________________________\n",
      "block4_conv3 (Conv2D)        (None, 18, 18, 512)       2359808   \n",
      "_________________________________________________________________\n",
      "block4_pool (MaxPooling2D)   (None, 9, 9, 512)         0         \n",
      "_________________________________________________________________\n",
      "block5_conv1 (Conv2D)        (None, 9, 9, 512)         2359808   \n",
      "_________________________________________________________________\n",
      "block5_conv2 (Conv2D)        (None, 9, 9, 512)         2359808   \n",
      "_________________________________________________________________\n",
      "block5_conv3 (Conv2D)        (None, 9, 9, 512)         2359808   \n",
      "_________________________________________________________________\n",
      "block5_pool (MaxPooling2D)   (None, 4, 4, 512)         0         \n",
      "=================================================================\n",
      "Total params: 14,714,688\n",
      "Trainable params: 0\n",
      "Non-trainable params: 14,714,688\n",
      "_________________________________________________________________\n"
     ]
    }
   ],
   "source": [
    "model_base.summary()"
   ]
  },
  {
   "cell_type": "code",
   "execution_count": 9,
   "id": "1ac48339",
   "metadata": {},
   "outputs": [],
   "source": [
    "model.compile(optimizer=Adam(learning_rate=0.00001),\n",
    "                loss ='binary_crossentropy',\n",
    "                metrics=[\"accuracy\"])\n"
   ]
  },
  {
   "cell_type": "code",
   "execution_count": 10,
   "id": "dfd23411",
   "metadata": {},
   "outputs": [
    {
     "name": "stdout",
     "output_type": "stream",
     "text": [
      "Epoch 1/30\n",
      "100/100 [==============================] - 26s 201ms/step - loss: 0.5824 - accuracy: 0.7025 - val_loss: 0.4966 - val_accuracy: 0.7930\n",
      "Epoch 2/30\n",
      "100/100 [==============================] - 20s 202ms/step - loss: 0.4343 - accuracy: 0.8445 - val_loss: 0.4155 - val_accuracy: 0.8280\n",
      "Epoch 3/30\n",
      "100/100 [==============================] - 20s 202ms/step - loss: 0.3633 - accuracy: 0.8695 - val_loss: 0.3692 - val_accuracy: 0.8440\n",
      "Epoch 4/30\n",
      "100/100 [==============================] - 20s 201ms/step - loss: 0.3181 - accuracy: 0.8825 - val_loss: 0.3433 - val_accuracy: 0.8460\n",
      "Epoch 5/30\n",
      "100/100 [==============================] - 20s 199ms/step - loss: 0.2871 - accuracy: 0.8955 - val_loss: 0.3289 - val_accuracy: 0.8560\n",
      "Epoch 6/30\n",
      "100/100 [==============================] - 20s 199ms/step - loss: 0.2658 - accuracy: 0.9090 - val_loss: 0.3183 - val_accuracy: 0.8640\n",
      "Epoch 7/30\n",
      "100/100 [==============================] - 20s 200ms/step - loss: 0.2486 - accuracy: 0.9185 - val_loss: 0.3053 - val_accuracy: 0.8660\n",
      "Epoch 8/30\n",
      "100/100 [==============================] - 20s 199ms/step - loss: 0.2322 - accuracy: 0.9220 - val_loss: 0.2993 - val_accuracy: 0.8760\n",
      "Epoch 9/30\n",
      "100/100 [==============================] - 20s 200ms/step - loss: 0.2198 - accuracy: 0.9275 - val_loss: 0.2912 - val_accuracy: 0.8760\n",
      "Epoch 10/30\n",
      "100/100 [==============================] - 20s 200ms/step - loss: 0.2083 - accuracy: 0.9325 - val_loss: 0.2877 - val_accuracy: 0.8730\n",
      "Epoch 11/30\n",
      "100/100 [==============================] - 20s 200ms/step - loss: 0.1985 - accuracy: 0.9365 - val_loss: 0.2827 - val_accuracy: 0.8750\n",
      "Epoch 12/30\n",
      "100/100 [==============================] - 20s 201ms/step - loss: 0.1883 - accuracy: 0.9425 - val_loss: 0.2785 - val_accuracy: 0.8840\n",
      "Epoch 13/30\n",
      "100/100 [==============================] - 20s 199ms/step - loss: 0.1794 - accuracy: 0.9460 - val_loss: 0.2753 - val_accuracy: 0.8870\n",
      "Epoch 14/30\n",
      "100/100 [==============================] - 20s 201ms/step - loss: 0.1723 - accuracy: 0.9470 - val_loss: 0.2740 - val_accuracy: 0.8810\n",
      "Epoch 15/30\n",
      "100/100 [==============================] - 20s 200ms/step - loss: 0.1659 - accuracy: 0.9525 - val_loss: 0.2700 - val_accuracy: 0.8890\n",
      "Epoch 16/30\n",
      "100/100 [==============================] - 20s 200ms/step - loss: 0.1589 - accuracy: 0.9525 - val_loss: 0.2690 - val_accuracy: 0.8850\n",
      "Epoch 17/30\n",
      "100/100 [==============================] - 20s 200ms/step - loss: 0.1516 - accuracy: 0.9535 - val_loss: 0.2663 - val_accuracy: 0.8840\n",
      "Epoch 18/30\n",
      "100/100 [==============================] - 20s 204ms/step - loss: 0.1449 - accuracy: 0.9595 - val_loss: 0.2767 - val_accuracy: 0.8810\n",
      "Epoch 19/30\n",
      "100/100 [==============================] - 20s 205ms/step - loss: 0.1401 - accuracy: 0.9615 - val_loss: 0.2637 - val_accuracy: 0.8870\n",
      "Epoch 20/30\n",
      "100/100 [==============================] - 20s 204ms/step - loss: 0.1353 - accuracy: 0.9605 - val_loss: 0.2618 - val_accuracy: 0.8840\n",
      "Epoch 21/30\n",
      "100/100 [==============================] - 20s 204ms/step - loss: 0.1295 - accuracy: 0.9635 - val_loss: 0.2607 - val_accuracy: 0.8870\n",
      "Epoch 22/30\n",
      "100/100 [==============================] - 20s 202ms/step - loss: 0.1243 - accuracy: 0.9640 - val_loss: 0.2593 - val_accuracy: 0.8860\n",
      "Epoch 23/30\n",
      "100/100 [==============================] - 21s 205ms/step - loss: 0.1184 - accuracy: 0.9665 - val_loss: 0.2593 - val_accuracy: 0.8850\n",
      "Epoch 24/30\n",
      "100/100 [==============================] - 20s 201ms/step - loss: 0.1142 - accuracy: 0.9680 - val_loss: 0.2586 - val_accuracy: 0.8860\n",
      "Epoch 25/30\n",
      "100/100 [==============================] - 20s 201ms/step - loss: 0.1104 - accuracy: 0.9720 - val_loss: 0.2571 - val_accuracy: 0.8850\n",
      "Epoch 26/30\n",
      "100/100 [==============================] - 20s 200ms/step - loss: 0.1063 - accuracy: 0.9715 - val_loss: 0.2568 - val_accuracy: 0.8920\n",
      "Epoch 27/30\n",
      "100/100 [==============================] - 20s 200ms/step - loss: 0.1018 - accuracy: 0.9740 - val_loss: 0.2589 - val_accuracy: 0.8840\n",
      "Epoch 28/30\n",
      "100/100 [==============================] - 20s 200ms/step - loss: 0.0979 - accuracy: 0.9770 - val_loss: 0.2573 - val_accuracy: 0.8890\n",
      "Epoch 29/30\n",
      "100/100 [==============================] - 20s 201ms/step - loss: 0.0939 - accuracy: 0.9795 - val_loss: 0.2559 - val_accuracy: 0.8850\n",
      "Epoch 30/30\n",
      "100/100 [==============================] - 20s 200ms/step - loss: 0.0908 - accuracy: 0.9780 - val_loss: 0.2553 - val_accuracy: 0.8880\n"
     ]
    }
   ],
   "source": [
    "hist=model.fit(train_genrator,\n",
    "               steps_per_epoch=100,\n",
    "               epochs=30,\n",
    "               verbose=1,\n",
    "               validation_data=test_genrator,\n",
    "               validation_steps=50)"
   ]
  },
  {
   "cell_type": "code",
   "execution_count": 11,
   "id": "9949c510",
   "metadata": {},
   "outputs": [
    {
     "data": {
      "text/plain": [
       "<matplotlib.legend.Legend at 0x27623999190>"
      ]
     },
     "execution_count": 11,
     "metadata": {},
     "output_type": "execute_result"
    },
    {
     "data": {
      "image/png": "[encoded data removed]",
      "text/plain": [
       "<Figure size 432x288 with 2 Axes>"
      ]
     },
     "metadata": {
      "needs_background": "light"
     },
     "output_type": "display_data"
    }
   ],
   "source": [
    "import matplotlib.pyplot as plt\n",
    "fig, loss_ax = plt.subplots()\n",
    "loss_ax.plot(hist.history[\"loss\"], \"y\", label=\"train_loss\")\n",
    "loss_ax.plot(hist.history[\"val_loss\"], \"r\", label=\"val_loss\")\n",
    "loss_ax.set_xlabel(\"epoch\")\n",
    "loss_ax.set_ylabel(\"loss\")\n",
    "loss_ax.legend(loc=\"upper left\")\n",
    "acc_ax = loss_ax.twinx()\n",
    "acc_ax.plot(hist.history[\"accuracy\"], \"b\", label=\"train_acc\")\n",
    "acc_ax.plot(hist.history[\"val_accuracy\"], \"g\", label=\"val_acc\")\n",
    "acc_ax.set_ylabel(\"accuracy\")\n",
    "acc_ax.legend(loc=\"lower left\")"
   ]
  }
 ],
 "metadata": {
  "kernelspec": {
   "display_name": "Python 3 (ipykernel)",
   "language": "python",
   "name": "python3"
  },
  "language_info": {
   "codemirror_mode": {
    "name": "ipython",
    "version": 3
   },
   "file_extension": ".py",
   "mimetype": "text/x-python",
   "name": "python",
   "nbconvert_exporter": "python",
   "pygments_lexer": "ipython3",
   "version": "3.9.15"
  },
  "toc": {
   "base_numbering": 1,
   "nav_menu": {},
   "number_sections": true,
   "sideBar": true,
   "skip_h1_title": false,
   "title_cell": "Table of Contents",
   "title_sidebar": "Contents",
   "toc_cell": false,
   "toc_position": {},
   "toc_section_display": true,
   "toc_window_display": false
  },
  "varInspector": {
   "cols": {
    "lenName": 16,
    "lenType": 16,
    "lenVar": 40
   },
   "kernels_config": {
    "python": {
     "delete_cmd_postfix": "",
     "delete_cmd_prefix": "del ",
     "library": "var_list.py",
     "varRefreshCmd": "print(var_dic_list())"
    },
    "r": {
     "delete_cmd_postfix": ") ",
     "delete_cmd_prefix": "rm(",
     "library": "var_list.r",
     "varRefreshCmd": "cat(var_dic_list()) "
    }
   },
   "types_to_exclude": [
    "module",
    "function",
    "builtin_function_or_method",
    "instance",
    "_Feature"
   ],
   "window_display": false
  }
 },
 "nbformat": 4,
 "nbformat_minor": 5
}
