{
 "cells": [
  {
   "cell_type": "code",
   "execution_count": 1,
   "id": "06014ecc",
   "metadata": {},
   "outputs": [
    {
     "data": {
      "text/html": [
       "<style>div.container { width:100% !important; }</style>"
      ],
      "text/plain": [
       "<IPython.core.display.HTML object>"
      ]
     },
     "metadata": {},
     "output_type": "display_data"
    }
   ],
   "source": [
    "from IPython.display import display, HTML\n",
    "display(HTML(\"<style>div.container { width:100% !important; }</style>\"))\n"
   ]
  },
  {
   "cell_type": "code",
   "execution_count": 2,
   "id": "0faf5e90",
   "metadata": {},
   "outputs": [],
   "source": [
    "import tensorflow as tf "
   ]
  },
  {
   "cell_type": "code",
   "execution_count": 4,
   "id": "6238d07e",
   "metadata": {},
   "outputs": [
    {
     "data": {
      "text/plain": [
       "'2.6.0'"
      ]
     },
     "execution_count": 4,
     "metadata": {},
     "output_type": "execute_result"
    }
   ],
   "source": [
    "tf.__version__"
   ]
  },
  {
   "cell_type": "code",
   "execution_count": 5,
   "id": "73ece7ff",
   "metadata": {},
   "outputs": [],
   "source": [
    "import pandas as pd\n",
    "df=pd.read_csv(\"train.csv\")\n",
    "# pixel의 수는 28(세로) *28(가로)- 784개의 pizel\n",
    "#tabel 라는 column이 있는데 이 값이 바로 target(label)=y\n",
    "# 이 데이터를 학습해서 multnominal을 수행\n",
    "#학습데이터(train)와 테스트 데이터(test)를 나누어서 평가를 진행\n",
    "#우리가 평가한 모델의 정확도를 측정\n",
    "\n"
   ]
  },
  {
   "cell_type": "code",
   "execution_count": 7,
   "id": "85f094a6",
   "metadata": {},
   "outputs": [
    {
     "data": {
      "text/html": [
       "<div>\n",
       "<style scoped>\n",
       "    .dataframe tbody tr th:only-of-type {\n",
       "        vertical-align: middle;\n",
       "    }\n",
       "\n",
       "    .dataframe tbody tr th {\n",
       "        vertical-align: top;\n",
       "    }\n",
       "\n",
       "    .dataframe thead th {\n",
       "        text-align: right;\n",
       "    }\n",
       "</style>\n",
       "<table border=\"1\" class=\"dataframe\">\n",
       "  <thead>\n",
       "    <tr style=\"text-align: right;\">\n",
       "      <th></th>\n",
       "      <th>label</th>\n",
       "      <th>1x1</th>\n",
       "      <th>1x2</th>\n",
       "      <th>1x3</th>\n",
       "      <th>1x4</th>\n",
       "      <th>1x5</th>\n",
       "      <th>1x6</th>\n",
       "      <th>1x7</th>\n",
       "      <th>1x8</th>\n",
       "      <th>1x9</th>\n",
       "      <th>...</th>\n",
       "      <th>28x19</th>\n",
       "      <th>28x20</th>\n",
       "      <th>28x21</th>\n",
       "      <th>28x22</th>\n",
       "      <th>28x23</th>\n",
       "      <th>28x24</th>\n",
       "      <th>28x25</th>\n",
       "      <th>28x26</th>\n",
       "      <th>28x27</th>\n",
       "      <th>28x28</th>\n",
       "    </tr>\n",
       "  </thead>\n",
       "  <tbody>\n",
       "    <tr>\n",
       "      <th>0</th>\n",
       "      <td>5</td>\n",
       "      <td>0</td>\n",
       "      <td>0</td>\n",
       "      <td>0</td>\n",
       "      <td>0</td>\n",
       "      <td>0</td>\n",
       "      <td>0</td>\n",
       "      <td>0</td>\n",
       "      <td>0</td>\n",
       "      <td>0</td>\n",
       "      <td>...</td>\n",
       "      <td>0</td>\n",
       "      <td>0</td>\n",
       "      <td>0</td>\n",
       "      <td>0</td>\n",
       "      <td>0</td>\n",
       "      <td>0</td>\n",
       "      <td>0</td>\n",
       "      <td>0</td>\n",
       "      <td>0</td>\n",
       "      <td>0</td>\n",
       "    </tr>\n",
       "    <tr>\n",
       "      <th>1</th>\n",
       "      <td>0</td>\n",
       "      <td>0</td>\n",
       "      <td>0</td>\n",
       "      <td>0</td>\n",
       "      <td>0</td>\n",
       "      <td>0</td>\n",
       "      <td>0</td>\n",
       "      <td>0</td>\n",
       "      <td>0</td>\n",
       "      <td>0</td>\n",
       "      <td>...</td>\n",
       "      <td>0</td>\n",
       "      <td>0</td>\n",
       "      <td>0</td>\n",
       "      <td>0</td>\n",
       "      <td>0</td>\n",
       "      <td>0</td>\n",
       "      <td>0</td>\n",
       "      <td>0</td>\n",
       "      <td>0</td>\n",
       "      <td>0</td>\n",
       "    </tr>\n",
       "    <tr>\n",
       "      <th>2</th>\n",
       "      <td>4</td>\n",
       "      <td>0</td>\n",
       "      <td>0</td>\n",
       "      <td>0</td>\n",
       "      <td>0</td>\n",
       "      <td>0</td>\n",
       "      <td>0</td>\n",
       "      <td>0</td>\n",
       "      <td>0</td>\n",
       "      <td>0</td>\n",
       "      <td>...</td>\n",
       "      <td>0</td>\n",
       "      <td>0</td>\n",
       "      <td>0</td>\n",
       "      <td>0</td>\n",
       "      <td>0</td>\n",
       "      <td>0</td>\n",
       "      <td>0</td>\n",
       "      <td>0</td>\n",
       "      <td>0</td>\n",
       "      <td>0</td>\n",
       "    </tr>\n",
       "    <tr>\n",
       "      <th>3</th>\n",
       "      <td>1</td>\n",
       "      <td>0</td>\n",
       "      <td>0</td>\n",
       "      <td>0</td>\n",
       "      <td>0</td>\n",
       "      <td>0</td>\n",
       "      <td>0</td>\n",
       "      <td>0</td>\n",
       "      <td>0</td>\n",
       "      <td>0</td>\n",
       "      <td>...</td>\n",
       "      <td>0</td>\n",
       "      <td>0</td>\n",
       "      <td>0</td>\n",
       "      <td>0</td>\n",
       "      <td>0</td>\n",
       "      <td>0</td>\n",
       "      <td>0</td>\n",
       "      <td>0</td>\n",
       "      <td>0</td>\n",
       "      <td>0</td>\n",
       "    </tr>\n",
       "    <tr>\n",
       "      <th>4</th>\n",
       "      <td>9</td>\n",
       "      <td>0</td>\n",
       "      <td>0</td>\n",
       "      <td>0</td>\n",
       "      <td>0</td>\n",
       "      <td>0</td>\n",
       "      <td>0</td>\n",
       "      <td>0</td>\n",
       "      <td>0</td>\n",
       "      <td>0</td>\n",
       "      <td>...</td>\n",
       "      <td>0</td>\n",
       "      <td>0</td>\n",
       "      <td>0</td>\n",
       "      <td>0</td>\n",
       "      <td>0</td>\n",
       "      <td>0</td>\n",
       "      <td>0</td>\n",
       "      <td>0</td>\n",
       "      <td>0</td>\n",
       "      <td>0</td>\n",
       "    </tr>\n",
       "  </tbody>\n",
       "</table>\n",
       "<p>5 rows × 785 columns</p>\n",
       "</div>"
      ],
      "text/plain": [
       "   label  1x1  1x2  1x3  1x4  1x5  1x6  1x7  1x8  1x9  ...  28x19  28x20  \\\n",
       "0      5    0    0    0    0    0    0    0    0    0  ...      0      0   \n",
       "1      0    0    0    0    0    0    0    0    0    0  ...      0      0   \n",
       "2      4    0    0    0    0    0    0    0    0    0  ...      0      0   \n",
       "3      1    0    0    0    0    0    0    0    0    0  ...      0      0   \n",
       "4      9    0    0    0    0    0    0    0    0    0  ...      0      0   \n",
       "\n",
       "   28x21  28x22  28x23  28x24  28x25  28x26  28x27  28x28  \n",
       "0      0      0      0      0      0      0      0      0  \n",
       "1      0      0      0      0      0      0      0      0  \n",
       "2      0      0      0      0      0      0      0      0  \n",
       "3      0      0      0      0      0      0      0      0  \n",
       "4      0      0      0      0      0      0      0      0  \n",
       "\n",
       "[5 rows x 785 columns]"
      ]
     },
     "execution_count": 7,
     "metadata": {},
     "output_type": "execute_result"
    }
   ],
   "source": [
    "df.head()"
   ]
  },
  {
   "cell_type": "code",
   "execution_count": 6,
   "id": "4cd1d044",
   "metadata": {},
   "outputs": [
    {
     "data": {
      "text/html": [
       "<div>\n",
       "<style scoped>\n",
       "    .dataframe tbody tr th:only-of-type {\n",
       "        vertical-align: middle;\n",
       "    }\n",
       "\n",
       "    .dataframe tbody tr th {\n",
       "        vertical-align: top;\n",
       "    }\n",
       "\n",
       "    .dataframe thead th {\n",
       "        text-align: right;\n",
       "    }\n",
       "</style>\n",
       "<table border=\"1\" class=\"dataframe\">\n",
       "  <thead>\n",
       "    <tr style=\"text-align: right;\">\n",
       "      <th></th>\n",
       "      <th>label</th>\n",
       "      <th>1x1</th>\n",
       "      <th>1x2</th>\n",
       "      <th>1x3</th>\n",
       "      <th>1x4</th>\n",
       "      <th>1x5</th>\n",
       "      <th>1x6</th>\n",
       "      <th>1x7</th>\n",
       "      <th>1x8</th>\n",
       "      <th>1x9</th>\n",
       "      <th>...</th>\n",
       "      <th>28x19</th>\n",
       "      <th>28x20</th>\n",
       "      <th>28x21</th>\n",
       "      <th>28x22</th>\n",
       "      <th>28x23</th>\n",
       "      <th>28x24</th>\n",
       "      <th>28x25</th>\n",
       "      <th>28x26</th>\n",
       "      <th>28x27</th>\n",
       "      <th>28x28</th>\n",
       "    </tr>\n",
       "  </thead>\n",
       "  <tbody>\n",
       "    <tr>\n",
       "      <th>59995</th>\n",
       "      <td>8</td>\n",
       "      <td>0</td>\n",
       "      <td>0</td>\n",
       "      <td>0</td>\n",
       "      <td>0</td>\n",
       "      <td>0</td>\n",
       "      <td>0</td>\n",
       "      <td>0</td>\n",
       "      <td>0</td>\n",
       "      <td>0</td>\n",
       "      <td>...</td>\n",
       "      <td>0</td>\n",
       "      <td>0</td>\n",
       "      <td>0</td>\n",
       "      <td>0</td>\n",
       "      <td>0</td>\n",
       "      <td>0</td>\n",
       "      <td>0</td>\n",
       "      <td>0</td>\n",
       "      <td>0</td>\n",
       "      <td>0</td>\n",
       "    </tr>\n",
       "    <tr>\n",
       "      <th>59996</th>\n",
       "      <td>3</td>\n",
       "      <td>0</td>\n",
       "      <td>0</td>\n",
       "      <td>0</td>\n",
       "      <td>0</td>\n",
       "      <td>0</td>\n",
       "      <td>0</td>\n",
       "      <td>0</td>\n",
       "      <td>0</td>\n",
       "      <td>0</td>\n",
       "      <td>...</td>\n",
       "      <td>0</td>\n",
       "      <td>0</td>\n",
       "      <td>0</td>\n",
       "      <td>0</td>\n",
       "      <td>0</td>\n",
       "      <td>0</td>\n",
       "      <td>0</td>\n",
       "      <td>0</td>\n",
       "      <td>0</td>\n",
       "      <td>0</td>\n",
       "    </tr>\n",
       "    <tr>\n",
       "      <th>59997</th>\n",
       "      <td>5</td>\n",
       "      <td>0</td>\n",
       "      <td>0</td>\n",
       "      <td>0</td>\n",
       "      <td>0</td>\n",
       "      <td>0</td>\n",
       "      <td>0</td>\n",
       "      <td>0</td>\n",
       "      <td>0</td>\n",
       "      <td>0</td>\n",
       "      <td>...</td>\n",
       "      <td>0</td>\n",
       "      <td>0</td>\n",
       "      <td>0</td>\n",
       "      <td>0</td>\n",
       "      <td>0</td>\n",
       "      <td>0</td>\n",
       "      <td>0</td>\n",
       "      <td>0</td>\n",
       "      <td>0</td>\n",
       "      <td>0</td>\n",
       "    </tr>\n",
       "    <tr>\n",
       "      <th>59998</th>\n",
       "      <td>6</td>\n",
       "      <td>0</td>\n",
       "      <td>0</td>\n",
       "      <td>0</td>\n",
       "      <td>0</td>\n",
       "      <td>0</td>\n",
       "      <td>0</td>\n",
       "      <td>0</td>\n",
       "      <td>0</td>\n",
       "      <td>0</td>\n",
       "      <td>...</td>\n",
       "      <td>0</td>\n",
       "      <td>0</td>\n",
       "      <td>0</td>\n",
       "      <td>0</td>\n",
       "      <td>0</td>\n",
       "      <td>0</td>\n",
       "      <td>0</td>\n",
       "      <td>0</td>\n",
       "      <td>0</td>\n",
       "      <td>0</td>\n",
       "    </tr>\n",
       "    <tr>\n",
       "      <th>59999</th>\n",
       "      <td>8</td>\n",
       "      <td>0</td>\n",
       "      <td>0</td>\n",
       "      <td>0</td>\n",
       "      <td>0</td>\n",
       "      <td>0</td>\n",
       "      <td>0</td>\n",
       "      <td>0</td>\n",
       "      <td>0</td>\n",
       "      <td>0</td>\n",
       "      <td>...</td>\n",
       "      <td>0</td>\n",
       "      <td>0</td>\n",
       "      <td>0</td>\n",
       "      <td>0</td>\n",
       "      <td>0</td>\n",
       "      <td>0</td>\n",
       "      <td>0</td>\n",
       "      <td>0</td>\n",
       "      <td>0</td>\n",
       "      <td>0</td>\n",
       "    </tr>\n",
       "  </tbody>\n",
       "</table>\n",
       "<p>5 rows × 785 columns</p>\n",
       "</div>"
      ],
      "text/plain": [
       "       label  1x1  1x2  1x3  1x4  1x5  1x6  1x7  1x8  1x9  ...  28x19  28x20  \\\n",
       "59995      8    0    0    0    0    0    0    0    0    0  ...      0      0   \n",
       "59996      3    0    0    0    0    0    0    0    0    0  ...      0      0   \n",
       "59997      5    0    0    0    0    0    0    0    0    0  ...      0      0   \n",
       "59998      6    0    0    0    0    0    0    0    0    0  ...      0      0   \n",
       "59999      8    0    0    0    0    0    0    0    0    0  ...      0      0   \n",
       "\n",
       "       28x21  28x22  28x23  28x24  28x25  28x26  28x27  28x28  \n",
       "59995      0      0      0      0      0      0      0      0  \n",
       "59996      0      0      0      0      0      0      0      0  \n",
       "59997      0      0      0      0      0      0      0      0  \n",
       "59998      0      0      0      0      0      0      0      0  \n",
       "59999      0      0      0      0      0      0      0      0  \n",
       "\n",
       "[5 rows x 785 columns]"
      ]
     },
     "execution_count": 6,
     "metadata": {},
     "output_type": "execute_result"
    }
   ],
   "source": [
    "df.tail()"
   ]
  },
  {
   "cell_type": "code",
   "execution_count": 8,
   "id": "408c4df2",
   "metadata": {},
   "outputs": [
    {
     "data": {
      "text/plain": [
       "(60000, 785)"
      ]
     },
     "execution_count": 8,
     "metadata": {},
     "output_type": "execute_result"
    }
   ],
   "source": [
    "df.shape"
   ]
  },
  {
   "cell_type": "code",
   "execution_count": 9,
   "id": "f9ba1b64",
   "metadata": {},
   "outputs": [],
   "source": [
    "import numpy as np\n",
    "import tensorflow as tf      #tensofolw 기본 import\n",
    "from tensorflow.keras.models import Sequential #model box 구성\n",
    "from tensorflow.keras.layers import Flatten, Dense #model 안에 input layer와\n",
    "                                                    #output layer를 구성한다\n",
    "from tensorflow.keras.optimizers import SGD        #알고리즘 담당\n",
    "from sklearn.model_selection import train_test_split # traln Data, TestData 분리\n",
    "from sklearn.preprocessing import MinMaxScaler #데이터정규화\n",
    "                                                #컴퓨터가 큰 숫자를 작은숫자로 변경 \n",
    "                                                #0~1사이 실수 값으로  변경\n"
   ]
  },
  {
   "cell_type": "code",
   "execution_count": 10,
   "id": "cab3c070",
   "metadata": {},
   "outputs": [],
   "source": [
    "#Train data와 Test Data()분리\n",
    "#pixel Data(x)와 label Data(y)를 분리\n",
    "#독립변수와 종속변수를 분리\n",
    "x_data=df.drop(\"label\",axis=1,inplace=False) #2차원 형태의 pixel(28*28)\n",
    "y_data=df[\"label\"]#1차원"
   ]
  },
  {
   "cell_type": "code",
   "execution_count": 11,
   "id": "1ffcd1d9",
   "metadata": {},
   "outputs": [
    {
     "data": {
      "text/plain": [
       "(60000, 784)"
      ]
     },
     "execution_count": 11,
     "metadata": {},
     "output_type": "execute_result"
    }
   ],
   "source": [
    "x_data.shape"
   ]
  },
  {
   "cell_type": "code",
   "execution_count": 12,
   "id": "68ab21ca",
   "metadata": {},
   "outputs": [
    {
     "data": {
      "text/plain": [
       "(60000,)"
      ]
     },
     "execution_count": 12,
     "metadata": {},
     "output_type": "execute_result"
    }
   ],
   "source": [
    "y_data.shape"
   ]
  },
  {
   "cell_type": "code",
   "execution_count": 13,
   "id": "bc1fa57a",
   "metadata": {},
   "outputs": [],
   "source": [
    "#paxel data(x_data)를 정규화(0~1사이의 실 수값으로 변화)\n",
    "# 0으로 평균으로 하는 골구로 펴져있는 그래프 를 정규화라고 한다\n",
    "#norm,\n",
    "scaler=MinMaxScaler() #\n",
    "scaler.fit(x_data) #scaler를 학습시키고 min,max \n",
    "norm_x_data=scaler.transform(x_data) #scater를 통해 실제로 값을 변환(0~1 변경)"
   ]
  },
  {
   "cell_type": "code",
   "execution_count": 14,
   "id": "22cdcb1e",
   "metadata": {},
   "outputs": [],
   "source": [
    "#데이터를 분리(train Data와 test Data 로 분리)\n",
    "#분리 비율은 일반적으로 8:2,7:3 정도로 분리(korea style, amerioa styie =7.5:2.5(3:1))\n",
    "#현재 우리의 x_data=norm_x_data\n",
    "#현재 우리의 y_data=y_data\n",
    "train_norm_x_data,test_norm_x_data,train_y_data,test_y_data=\\\n",
    "                   train_test_split(norm_x_data,y_data,test_size=0.3)#7:3으로 분리"
   ]
  },
  {
   "cell_type": "code",
   "execution_count": 15,
   "id": "912cffc9",
   "metadata": {},
   "outputs": [
    {
     "data": {
      "text/plain": [
       "(42000, 784)"
      ]
     },
     "execution_count": 15,
     "metadata": {},
     "output_type": "execute_result"
    }
   ],
   "source": [
    "train_norm_x_data.shape"
   ]
  },
  {
   "cell_type": "code",
   "execution_count": 16,
   "id": "02f51af3",
   "metadata": {},
   "outputs": [
    {
     "data": {
      "text/plain": [
       "(18000, 784)"
      ]
     },
     "execution_count": 16,
     "metadata": {},
     "output_type": "execute_result"
    }
   ],
   "source": [
    "test_norm_x_data.shape"
   ]
  },
  {
   "cell_type": "code",
   "execution_count": 19,
   "id": "1f9b3edf",
   "metadata": {},
   "outputs": [],
   "source": [
    "model=Sequential() #학습모델 생성\n",
    "\n",
    "model.add(Flatten(input_shape=(28*28,))) #모델 box에 input레이어추가\n",
    "                                        #Flatten은 1차원으로 변경\n",
    "model.add(Dense(units=10,activation=\"softmax\"))#모델 box에 output레이어추가\n",
    "model.add(Dense(units=256,activation=\"softmax\"))     \n",
    "                                               #0~9까지 추출하기위해\n",
    "                                             #activation은 분류하기위해\n",
    "                                            #환류를 분리해준다"
   ]
  },
  {
   "cell_type": "code",
   "execution_count": 20,
   "id": "fd6151af",
   "metadata": {},
   "outputs": [],
   "source": [
    "#model이 어뗗게 도작하는지를 지정\n",
    "model.compile(optimizer=SGD(learning_rate=0.001), #학습속도를 지정해주는함수\n",
    "                                                   #0기울기에 맞게해주기우헤\n",
    "              loss=\"sparse_categorical_crossentropy\",# 실제값(정답)과 예측값이\n",
    "                                                   #차이를 찾아서 학습속도를 해준다\n",
    "                                                   #crossenropy은 다중분류 \n",
    "                                                   #onhotin으로 한다\n",
    "                         #결과값,입력값도 ,onehotind으로 해야한다\n",
    "              \n",
    "              metrics=['accuracy']  \n",
    "             )\n",
    "           \n"
   ]
  },
  {
   "cell_type": "code",
   "execution_count": 22,
   "id": "187b38e3",
   "metadata": {},
   "outputs": [
    {
     "name": "stdout",
     "output_type": "stream",
     "text": [
      "Model: \"sequential\"\n",
      "_________________________________________________________________\n",
      "Layer (type)                 Output Shape              Param #   \n",
      "=================================================================\n",
      "flatten (Flatten)            (None, 784)               0         \n",
      "_________________________________________________________________\n",
      "dense (Dense)                (None, 10)                7850      \n",
      "_________________________________________________________________\n",
      "dense_1 (Dense)              (None, 256)               2816      \n",
      "=================================================================\n",
      "Total params: 10,666\n",
      "Trainable params: 10,666\n",
      "Non-trainable params: 0\n",
      "_________________________________________________________________\n"
     ]
    }
   ],
   "source": [
    "model.summary()"
   ]
  },
  {
   "cell_type": "code",
   "execution_count": 21,
   "id": "69a52a59",
   "metadata": {},
   "outputs": [
    {
     "name": "stdout",
     "output_type": "stream",
     "text": [
      "Epoch 1/100\n",
      "1050/1050 [==============================] - 4s 3ms/step - loss: 5.4839 - accuracy: 0.0866 - val_loss: 5.4264 - val_accuracy: 0.1106\n",
      "Epoch 2/100\n",
      "1050/1050 [==============================] - 3s 3ms/step - loss: 5.3686 - accuracy: 0.1001 - val_loss: 5.3113 - val_accuracy: 0.0871\n",
      "Epoch 3/100\n",
      "1050/1050 [==============================] - 3s 3ms/step - loss: 5.2534 - accuracy: 0.0860 - val_loss: 5.1959 - val_accuracy: 0.0767\n",
      "Epoch 4/100\n",
      "1050/1050 [==============================] - 3s 3ms/step - loss: 5.1374 - accuracy: 0.0898 - val_loss: 5.0789 - val_accuracy: 0.1083\n",
      "Epoch 5/100\n",
      "1050/1050 [==============================] - 3s 3ms/step - loss: 5.0190 - accuracy: 0.1149 - val_loss: 4.9588 - val_accuracy: 0.1151\n",
      "Epoch 6/100\n",
      "1050/1050 [==============================] - 3s 3ms/step - loss: 4.8966 - accuracy: 0.1136 - val_loss: 4.8342 - val_accuracy: 0.1146\n",
      "Epoch 7/100\n",
      "1050/1050 [==============================] - 3s 3ms/step - loss: 4.7698 - accuracy: 0.1136 - val_loss: 4.7055 - val_accuracy: 0.1161\n",
      "Epoch 8/100\n",
      "1050/1050 [==============================] - 3s 3ms/step - loss: 4.6397 - accuracy: 0.1203 - val_loss: 4.5742 - val_accuracy: 0.1281\n",
      "Epoch 9/100\n",
      "1050/1050 [==============================] - 3s 2ms/step - loss: 4.5069 - accuracy: 0.1440 - val_loss: 4.4399 - val_accuracy: 0.1623\n",
      "Epoch 10/100\n",
      "1050/1050 [==============================] - 3s 3ms/step - loss: 4.3695 - accuracy: 0.1682 - val_loss: 4.2993 - val_accuracy: 0.1600\n",
      "Epoch 11/100\n",
      "1050/1050 [==============================] - 3s 3ms/step - loss: 4.2252 - accuracy: 0.1478 - val_loss: 4.1525 - val_accuracy: 0.1331\n",
      "Epoch 12/100\n",
      "1050/1050 [==============================] - 3s 3ms/step - loss: 4.0779 - accuracy: 0.1282 - val_loss: 4.0063 - val_accuracy: 0.1195\n",
      "Epoch 13/100\n",
      "1050/1050 [==============================] - 3s 3ms/step - loss: 3.9345 - accuracy: 0.1195 - val_loss: 3.8666 - val_accuracy: 0.1158\n",
      "Epoch 14/100\n",
      "1050/1050 [==============================] - 3s 3ms/step - loss: 3.7991 - accuracy: 0.1166 - val_loss: 3.7358 - val_accuracy: 0.1160\n",
      "Epoch 15/100\n",
      "1050/1050 [==============================] - 3s 3ms/step - loss: 3.6732 - accuracy: 0.1169 - val_loss: 3.6147 - val_accuracy: 0.1175\n",
      "Epoch 16/100\n",
      "1050/1050 [==============================] - 3s 3ms/step - loss: 3.5570 - accuracy: 0.1226 - val_loss: 3.5035 - val_accuracy: 0.1230\n",
      "Epoch 17/100\n",
      "1050/1050 [==============================] - 3s 3ms/step - loss: 3.4507 - accuracy: 0.1385 - val_loss: 3.4019 - val_accuracy: 0.1410\n",
      "Epoch 18/100\n",
      "1050/1050 [==============================] - 3s 3ms/step - loss: 3.3539 - accuracy: 0.1382 - val_loss: 3.3097 - val_accuracy: 0.1146\n",
      "Epoch 19/100\n",
      "1050/1050 [==============================] - 3s 3ms/step - loss: 3.2663 - accuracy: 0.1134 - val_loss: 3.2264 - val_accuracy: 0.1146\n",
      "Epoch 20/100\n",
      "1050/1050 [==============================] - 3s 3ms/step - loss: 3.1871 - accuracy: 0.1134 - val_loss: 3.1512 - val_accuracy: 0.1146\n",
      "Epoch 21/100\n",
      "1050/1050 [==============================] - 3s 3ms/step - loss: 3.1159 - accuracy: 0.1134 - val_loss: 3.0836 - val_accuracy: 0.1146\n",
      "Epoch 22/100\n",
      "1050/1050 [==============================] - 3s 3ms/step - loss: 3.0519 - accuracy: 0.1134 - val_loss: 3.0230 - val_accuracy: 0.1146\n",
      "Epoch 23/100\n",
      "1050/1050 [==============================] - 3s 3ms/step - loss: 2.9945 - accuracy: 0.1134 - val_loss: 2.9685 - val_accuracy: 0.1146\n",
      "Epoch 24/100\n",
      "1050/1050 [==============================] - 3s 3ms/step - loss: 2.9430 - accuracy: 0.1134 - val_loss: 2.9197 - val_accuracy: 0.1146\n",
      "Epoch 25/100\n",
      "1050/1050 [==============================] - 3s 2ms/step - loss: 2.8967 - accuracy: 0.1134 - val_loss: 2.8758 - val_accuracy: 0.1146\n",
      "Epoch 26/100\n",
      "1050/1050 [==============================] - 3s 3ms/step - loss: 2.8552 - accuracy: 0.1134 - val_loss: 2.8363 - val_accuracy: 0.1146\n",
      "Epoch 27/100\n",
      "1050/1050 [==============================] - 3s 3ms/step - loss: 2.8178 - accuracy: 0.1134 - val_loss: 2.8008 - val_accuracy: 0.1146\n",
      "Epoch 28/100\n",
      "1050/1050 [==============================] - 3s 3ms/step - loss: 2.7841 - accuracy: 0.1134 - val_loss: 2.7688 - val_accuracy: 0.1146\n",
      "Epoch 29/100\n",
      "1050/1050 [==============================] - 3s 3ms/step - loss: 2.7538 - accuracy: 0.1134 - val_loss: 2.7399 - val_accuracy: 0.1146\n",
      "Epoch 30/100\n",
      "1050/1050 [==============================] - 3s 3ms/step - loss: 2.7263 - accuracy: 0.1134 - val_loss: 2.7137 - val_accuracy: 0.1146\n",
      "Epoch 31/100\n",
      "1050/1050 [==============================] - 3s 2ms/step - loss: 2.7014 - accuracy: 0.1134 - val_loss: 2.6899 - val_accuracy: 0.1146\n",
      "Epoch 32/100\n",
      "1050/1050 [==============================] - 3s 3ms/step - loss: 2.6787 - accuracy: 0.1134 - val_loss: 2.6683 - val_accuracy: 0.1146\n",
      "Epoch 33/100\n",
      "1050/1050 [==============================] - 3s 3ms/step - loss: 2.6581 - accuracy: 0.1134 - val_loss: 2.6486 - val_accuracy: 0.1146\n",
      "Epoch 34/100\n",
      "1050/1050 [==============================] - 3s 3ms/step - loss: 2.6393 - accuracy: 0.1134 - val_loss: 2.6306 - val_accuracy: 0.1146\n",
      "Epoch 35/100\n",
      "1050/1050 [==============================] - 3s 3ms/step - loss: 2.6221 - accuracy: 0.1134 - val_loss: 2.6141 - val_accuracy: 0.1146\n",
      "Epoch 36/100\n",
      "1050/1050 [==============================] - 3s 3ms/step - loss: 2.6063 - accuracy: 0.1134 - val_loss: 2.5990 - val_accuracy: 0.1146\n",
      "Epoch 37/100\n",
      "1050/1050 [==============================] - 2s 2ms/step - loss: 2.5919 - accuracy: 0.1134 - val_loss: 2.5851 - val_accuracy: 0.1146\n",
      "Epoch 38/100\n",
      "1050/1050 [==============================] - 3s 3ms/step - loss: 2.5785 - accuracy: 0.1134 - val_loss: 2.5723 - val_accuracy: 0.1146.5788 - accuracy: 0.\n",
      "Epoch 39/100\n",
      "1050/1050 [==============================] - 3s 3ms/step - loss: 2.5662 - accuracy: 0.1134 - val_loss: 2.5604 - val_accuracy: 0.1146\n",
      "Epoch 40/100\n",
      "1050/1050 [==============================] - 2s 2ms/step - loss: 2.5548 - accuracy: 0.1134 - val_loss: 2.5494 - val_accuracy: 0.1146\n",
      "Epoch 41/100\n",
      "1050/1050 [==============================] - 3s 3ms/step - loss: 2.5442 - accuracy: 0.1134 - val_loss: 2.5392 - val_accuracy: 0.1146\n",
      "Epoch 42/100\n",
      "1050/1050 [==============================] - 3s 3ms/step - loss: 2.5344 - accuracy: 0.1134 - val_loss: 2.5298 - val_accuracy: 0.1146\n",
      "Epoch 43/100\n",
      "1050/1050 [==============================] - 3s 2ms/step - loss: 2.5253 - accuracy: 0.1134 - val_loss: 2.5209 - val_accuracy: 0.1146\n",
      "Epoch 44/100\n",
      "1050/1050 [==============================] - 3s 3ms/step - loss: 2.5168 - accuracy: 0.1134 - val_loss: 2.5127 - val_accuracy: 0.1146\n",
      "Epoch 45/100\n",
      "1050/1050 [==============================] - 3s 3ms/step - loss: 2.5088 - accuracy: 0.1134 - val_loss: 2.5050 - val_accuracy: 0.1146\n",
      "Epoch 46/100\n",
      "1050/1050 [==============================] - 3s 2ms/step - loss: 2.5014 - accuracy: 0.1134 - val_loss: 2.4978 - val_accuracy: 0.1146\n",
      "Epoch 47/100\n",
      "1050/1050 [==============================] - 3s 3ms/step - loss: 2.4944 - accuracy: 0.1134 - val_loss: 2.4911 - val_accuracy: 0.1146\n",
      "Epoch 48/100\n",
      "1050/1050 [==============================] - 3s 3ms/step - loss: 2.4879 - accuracy: 0.1134 - val_loss: 2.4847 - val_accuracy: 0.1146\n",
      "Epoch 49/100\n",
      "1050/1050 [==============================] - 3s 2ms/step - loss: 2.4817 - accuracy: 0.1134 - val_loss: 2.4788 - val_accuracy: 0.1146\n",
      "Epoch 50/100\n",
      "1050/1050 [==============================] - 3s 3ms/step - loss: 2.4759 - accuracy: 0.1134 - val_loss: 2.4731 - val_accuracy: 0.1146\n",
      "Epoch 51/100\n",
      "1050/1050 [==============================] - 3s 3ms/step - loss: 2.4705 - accuracy: 0.1134 - val_loss: 2.4678 - val_accuracy: 0.1146\n",
      "Epoch 52/100\n",
      "1050/1050 [==============================] - 3s 2ms/step - loss: 2.4653 - accuracy: 0.1134 - val_loss: 2.4628 - val_accuracy: 0.1146\n",
      "Epoch 53/100\n",
      "1050/1050 [==============================] - 3s 3ms/step - loss: 2.4604 - accuracy: 0.1134 - val_loss: 2.4581 - val_accuracy: 0.1146\n",
      "Epoch 54/100\n",
      "1050/1050 [==============================] - 3s 3ms/step - loss: 2.4558 - accuracy: 0.1134 - val_loss: 2.4536 - val_accuracy: 0.1146\n",
      "Epoch 55/100\n",
      "1050/1050 [==============================] - 3s 2ms/step - loss: 2.4514 - accuracy: 0.1134 - val_loss: 2.4493 - val_accuracy: 0.1146\n",
      "Epoch 56/100\n",
      "1050/1050 [==============================] - 3s 3ms/step - loss: 2.4473 - accuracy: 0.1134 - val_loss: 2.4453 - val_accuracy: 0.1146\n",
      "Epoch 57/100\n"
     ]
    },
    {
     "name": "stdout",
     "output_type": "stream",
     "text": [
      "1050/1050 [==============================] - 3s 3ms/step - loss: 2.4433 - accuracy: 0.1134 - val_loss: 2.4414 - val_accuracy: 0.1146\n",
      "Epoch 58/100\n",
      "1050/1050 [==============================] - 3s 3ms/step - loss: 2.4396 - accuracy: 0.1134 - val_loss: 2.4378 - val_accuracy: 0.1146\n",
      "Epoch 59/100\n",
      "1050/1050 [==============================] - 3s 3ms/step - loss: 2.4360 - accuracy: 0.1134 - val_loss: 2.4343 - val_accuracy: 0.1146\n",
      "Epoch 60/100\n",
      "1050/1050 [==============================] - 3s 3ms/step - loss: 2.4326 - accuracy: 0.1134 - val_loss: 2.4310 - val_accuracy: 0.1146\n",
      "Epoch 61/100\n",
      "1050/1050 [==============================] - 3s 2ms/step - loss: 2.4294 - accuracy: 0.1134 - val_loss: 2.4278 - val_accuracy: 0.1146\n",
      "Epoch 62/100\n",
      "1050/1050 [==============================] - 3s 3ms/step - loss: 2.4263 - accuracy: 0.1134 - val_loss: 2.4248 - val_accuracy: 0.1146\n",
      "Epoch 63/100\n",
      "1050/1050 [==============================] - 3s 3ms/step - loss: 2.4233 - accuracy: 0.1134 - val_loss: 2.4219 - val_accuracy: 0.1146\n",
      "Epoch 64/100\n",
      "1050/1050 [==============================] - 3s 3ms/step - loss: 2.4205 - accuracy: 0.1134 - val_loss: 2.4191 - val_accuracy: 0.1146\n",
      "Epoch 65/100\n",
      "1050/1050 [==============================] - 3s 3ms/step - loss: 2.4178 - accuracy: 0.1134 - val_loss: 2.4164 - val_accuracy: 0.1146\n",
      "Epoch 66/100\n",
      "1050/1050 [==============================] - 3s 3ms/step - loss: 2.4152 - accuracy: 0.1134 - val_loss: 2.4139 - val_accuracy: 0.1146\n",
      "Epoch 67/100\n",
      "1050/1050 [==============================] - 3s 2ms/step - loss: 2.4127 - accuracy: 0.1134 - val_loss: 2.4115 - val_accuracy: 0.1146\n",
      "Epoch 68/100\n",
      "1050/1050 [==============================] - 3s 3ms/step - loss: 2.4103 - accuracy: 0.1134 - val_loss: 2.4091 - val_accuracy: 0.1146\n",
      "Epoch 69/100\n",
      "1050/1050 [==============================] - 3s 3ms/step - loss: 2.4080 - accuracy: 0.1134 - val_loss: 2.4069 - val_accuracy: 0.1146\n",
      "Epoch 70/100\n",
      "1050/1050 [==============================] - 3s 3ms/step - loss: 2.4058 - accuracy: 0.1134 - val_loss: 2.4047 - val_accuracy: 0.1146\n",
      "Epoch 71/100\n",
      "1050/1050 [==============================] - 3s 3ms/step - loss: 2.4037 - accuracy: 0.1134 - val_loss: 2.4026 - val_accuracy: 0.1146\n",
      "Epoch 72/100\n",
      "1050/1050 [==============================] - 3s 3ms/step - loss: 2.4016 - accuracy: 0.1134 - val_loss: 2.4006 - val_accuracy: 0.1146\n",
      "Epoch 73/100\n",
      "1050/1050 [==============================] - 3s 2ms/step - loss: 2.3997 - accuracy: 0.1134 - val_loss: 2.3987 - val_accuracy: 0.1146\n",
      "Epoch 74/100\n",
      "1050/1050 [==============================] - 3s 3ms/step - loss: 2.3978 - accuracy: 0.1134 - val_loss: 2.3968 - val_accuracy: 0.1146\n",
      "Epoch 75/100\n",
      "1050/1050 [==============================] - 3s 3ms/step - loss: 2.3960 - accuracy: 0.1134 - val_loss: 2.3951 - val_accuracy: 0.1146\n",
      "Epoch 76/100\n",
      "1050/1050 [==============================] - 3s 3ms/step - loss: 2.3942 - accuracy: 0.1134 - val_loss: 2.3933 - val_accuracy: 0.1146\n",
      "Epoch 77/100\n",
      "1050/1050 [==============================] - 3s 3ms/step - loss: 2.3925 - accuracy: 0.1134 - val_loss: 2.3917 - val_accuracy: 0.1146\n",
      "Epoch 78/100\n",
      "1050/1050 [==============================] - 3s 3ms/step - loss: 2.3909 - accuracy: 0.1134 - val_loss: 2.3900 - val_accuracy: 0.1146\n",
      "Epoch 79/100\n",
      "1050/1050 [==============================] - 3s 2ms/step - loss: 2.3893 - accuracy: 0.1134 - val_loss: 2.3885 - val_accuracy: 0.1146\n",
      "Epoch 80/100\n",
      "1050/1050 [==============================] - 3s 3ms/step - loss: 2.3877 - accuracy: 0.1134 - val_loss: 2.3870 - val_accuracy: 0.1146\n",
      "Epoch 81/100\n",
      "1050/1050 [==============================] - 3s 3ms/step - loss: 2.3862 - accuracy: 0.1134 - val_loss: 2.3855 - val_accuracy: 0.1146\n",
      "Epoch 82/100\n",
      "1050/1050 [==============================] - 3s 3ms/step - loss: 2.3848 - accuracy: 0.1134 - val_loss: 2.3841 - val_accuracy: 0.1146\n",
      "Epoch 83/100\n",
      "1050/1050 [==============================] - 3s 3ms/step - loss: 2.3834 - accuracy: 0.1134 - val_loss: 2.3827 - val_accuracy: 0.1146\n",
      "Epoch 84/100\n",
      "1050/1050 [==============================] - 3s 3ms/step - loss: 2.3821 - accuracy: 0.1134 - val_loss: 2.3814 - val_accuracy: 0.1146\n",
      "Epoch 85/100\n",
      "1050/1050 [==============================] - 3s 2ms/step - loss: 2.3808 - accuracy: 0.1134 - val_loss: 2.3801 - val_accuracy: 0.1146\n",
      "Epoch 86/100\n",
      "1050/1050 [==============================] - 3s 3ms/step - loss: 2.3795 - accuracy: 0.1134 - val_loss: 2.3789 - val_accuracy: 0.1146\n",
      "Epoch 87/100\n",
      "1050/1050 [==============================] - 3s 3ms/step - loss: 2.3783 - accuracy: 0.1134 - val_loss: 2.3777 - val_accuracy: 0.1146\n",
      "Epoch 88/100\n",
      "1050/1050 [==============================] - 3s 3ms/step - loss: 2.3771 - accuracy: 0.1134 - val_loss: 2.3765 - val_accuracy: 0.1146\n",
      "Epoch 89/100\n",
      "1050/1050 [==============================] - 3s 3ms/step - loss: 2.3759 - accuracy: 0.1134 - val_loss: 2.3754 - val_accuracy: 0.1146\n",
      "Epoch 90/100\n",
      "1050/1050 [==============================] - 3s 3ms/step - loss: 2.3748 - accuracy: 0.1134 - val_loss: 2.3743 - val_accuracy: 0.1146\n",
      "Epoch 91/100\n",
      "1050/1050 [==============================] - 3s 2ms/step - loss: 2.3737 - accuracy: 0.1134 - val_loss: 2.3732 - val_accuracy: 0.1146\n",
      "Epoch 92/100\n",
      "1050/1050 [==============================] - 3s 3ms/step - loss: 2.3727 - accuracy: 0.1134 - val_loss: 2.3721 - val_accuracy: 0.1146\n",
      "Epoch 93/100\n",
      "1050/1050 [==============================] - 3s 3ms/step - loss: 2.3716 - accuracy: 0.1134 - val_loss: 2.3711 - val_accuracy: 0.1146\n",
      "Epoch 94/100\n",
      "1050/1050 [==============================] - 3s 2ms/step - loss: 2.3706 - accuracy: 0.1134 - val_loss: 2.3701 - val_accuracy: 0.1146\n",
      "Epoch 95/100\n",
      "1050/1050 [==============================] - 3s 3ms/step - loss: 2.3697 - accuracy: 0.1134 - val_loss: 2.3692 - val_accuracy: 0.1146\n",
      "Epoch 96/100\n",
      "1050/1050 [==============================] - 3s 3ms/step - loss: 2.3687 - accuracy: 0.1134 - val_loss: 2.3682 - val_accuracy: 0.1146\n",
      "Epoch 97/100\n",
      "1050/1050 [==============================] - 3s 2ms/step - loss: 2.3678 - accuracy: 0.1134 - val_loss: 2.3673 - val_accuracy: 0.1146\n",
      "Epoch 98/100\n",
      "1050/1050 [==============================] - 3s 3ms/step - loss: 2.3669 - accuracy: 0.1134 - val_loss: 2.3664 - val_accuracy: 0.1146\n",
      "Epoch 99/100\n",
      "1050/1050 [==============================] - 3s 3ms/step - loss: 2.3660 - accuracy: 0.1134 - val_loss: 2.3656 - val_accuracy: 0.1146\n",
      "Epoch 100/100\n",
      "1050/1050 [==============================] - 3s 2ms/step - loss: 2.3652 - accuracy: 0.1134 - val_loss: 2.3647 - val_accuracy: 0.1146\n"
     ]
    },
    {
     "data": {
      "text/plain": [
       "<keras.callbacks.History at 0x1eca38ecca0>"
      ]
     },
     "execution_count": 21,
     "metadata": {},
     "output_type": "execute_result"
    }
   ],
   "source": [
    "#설정이 끝났으면 모델학습\n",
    "model.fit(train_norm_x_data,\n",
    "          train_y_data,\n",
    "          epochs=100,\n",
    "          verbose=1,\n",
    "          validation_split=0.2)"
   ]
  },
  {
   "cell_type": "code",
   "execution_count": 23,
   "id": "ccb90c7b",
   "metadata": {},
   "outputs": [
    {
     "name": "stdout",
     "output_type": "stream",
     "text": [
      "563/563 [==============================] - 1s 893us/step - loss: 2.3653 - accuracy: 0.1094\n",
      "[2.3652806282043457, 0.10938888788223267]\n"
     ]
    }
   ],
   "source": [
    "#Evalation\n",
    "print(model.evaluate(test_norm_x_data,test_y_data))\n",
    "# loss accuracy\n",
    "#35539835691452026, 0.9024444222450256  앞으값은, loss값 뒷값은 정답값\n",
    "#우리모델은 90.1% 인 모델이예요\n",
    "#머신러닝의 regression 중 Logistic Regressopn을 여려개 결합해서 \n",
    "#구현한 Multinmial을 구현하는거것이다\n"
   ]
  },
  {
   "cell_type": "code",
   "execution_count": null,
   "id": "6bf2921d",
   "metadata": {},
   "outputs": [],
   "source": []
  },
  {
   "cell_type": "code",
   "execution_count": null,
   "id": "ceb0ce8a",
   "metadata": {},
   "outputs": [],
   "source": []
  }
 ],
 "metadata": {
  "kernelspec": {
   "display_name": "Python 3 (ipykernel)",
   "language": "python",
   "name": "python3"
  },
  "language_info": {
   "codemirror_mode": {
    "name": "ipython",
    "version": 3
   },
   "file_extension": ".py",
   "mimetype": "text/x-python",
   "name": "python",
   "nbconvert_exporter": "python",
   "pygments_lexer": "ipython3",
   "version": "3.9.12"
  },
  "toc": {
   "base_numbering": 1,
   "nav_menu": {},
   "number_sections": true,
   "sideBar": true,
   "skip_h1_title": false,
   "title_cell": "Table of Contents",
   "title_sidebar": "Contents",
   "toc_cell": false,
   "toc_position": {},
   "toc_section_display": true,
   "toc_window_display": false
  },
  "varInspector": {
   "cols": {
    "lenName": 16,
    "lenType": 16,
    "lenVar": 40
   },
   "kernels_config": {
    "python": {
     "delete_cmd_postfix": "",
     "delete_cmd_prefix": "del ",
     "library": "var_list.py",
     "varRefreshCmd": "print(var_dic_list())"
    },
    "r": {
     "delete_cmd_postfix": ") ",
     "delete_cmd_prefix": "rm(",
     "library": "var_list.r",
     "varRefreshCmd": "cat(var_dic_list()) "
    }
   },
   "types_to_exclude": [
    "module",
    "function",
    "builtin_function_or_method",
    "instance",
    "_Feature"
   ],
   "window_display": false
  }
 },
 "nbformat": 4,
 "nbformat_minor": 5
}
